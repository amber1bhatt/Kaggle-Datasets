{
 "cells": [
  {
   "cell_type": "markdown",
   "metadata": {},
   "source": [
    "# Exploratory Analysis of Credit Risk dataset\n",
    "\n",
    "## Goal\n",
    "\n",
    "Our goal with this analysis is to build a model to help determine whether or not a person will default on their credit loan.\n",
    "\n",
    "Dataset: https://www.kaggle.com/datasets/laotse/credit-risk-dataset"
   ]
  },
  {
   "cell_type": "markdown",
   "metadata": {},
   "source": [
    "### Let's start with the imports"
   ]
  },
  {
   "cell_type": "code",
   "execution_count": 94,
   "metadata": {
    "scrolled": false
   },
   "outputs": [],
   "source": [
    "import matplotlib.pyplot as plt\n",
    "import numpy as np\n",
    "import pandas as pd\n",
    "import seaborn as sns\n",
    "import shap\n",
    "\n",
    "from lightgbm import LGBMClassifier\n",
    "from sklearn.cluster import DBSCAN, AgglomerativeClustering\n",
    "from sklearn.compose import ColumnTransformer\n",
    "from sklearn.dummy import DummyClassifier\n",
    "from sklearn.ensemble import IsolationForest, AdaBoostClassifier, GradientBoostingClassifier, RandomForestClassifier, GradientBoostingClassifier\n",
    "from sklearn.impute import SimpleImputer\n",
    "from sklearn.linear_model import LogisticRegression\n",
    "from sklearn.metrics import r2_score, roc_auc_score, ConfusionMatrixDisplay, RocCurveDisplay, classification_report\n",
    "from sklearn.model_selection import train_test_split, cross_val_score, cross_validate, GridSearchCV\n",
    "from sklearn.neighbors import NearestNeighbors, KNeighborsClassifier\n",
    "from sklearn.pipeline import Pipeline, make_pipeline\n",
    "from sklearn.preprocessing import StandardScaler, OrdinalEncoder, OneHotEncoder\n",
    "from sklearn.svm import SVC"
   ]
  },
  {
   "cell_type": "markdown",
   "metadata": {},
   "source": [
    "### Load and View the dataset\n",
    "\n",
    "Next we load and view the dataset to get a feel of what we're working with...\n",
    "\n",
    "From this we can see that _loan_status_ is our variable of interest. It is binary with 0 meaning the person's credit loan did not default and 1 meaning that it did."
   ]
  },
  {
   "cell_type": "code",
   "execution_count": 95,
   "metadata": {},
   "outputs": [
    {
     "data": {
      "text/html": [
       "<div>\n",
       "<style scoped>\n",
       "    .dataframe tbody tr th:only-of-type {\n",
       "        vertical-align: middle;\n",
       "    }\n",
       "\n",
       "    .dataframe tbody tr th {\n",
       "        vertical-align: top;\n",
       "    }\n",
       "\n",
       "    .dataframe thead th {\n",
       "        text-align: right;\n",
       "    }\n",
       "</style>\n",
       "<table border=\"1\" class=\"dataframe\">\n",
       "  <thead>\n",
       "    <tr style=\"text-align: right;\">\n",
       "      <th></th>\n",
       "      <th>person_age</th>\n",
       "      <th>person_income</th>\n",
       "      <th>person_home_ownership</th>\n",
       "      <th>person_emp_length</th>\n",
       "      <th>loan_intent</th>\n",
       "      <th>loan_grade</th>\n",
       "      <th>loan_amnt</th>\n",
       "      <th>loan_int_rate</th>\n",
       "      <th>loan_status</th>\n",
       "      <th>loan_percent_income</th>\n",
       "      <th>cb_person_default_on_file</th>\n",
       "      <th>cb_person_cred_hist_length</th>\n",
       "    </tr>\n",
       "  </thead>\n",
       "  <tbody>\n",
       "    <tr>\n",
       "      <th>0</th>\n",
       "      <td>22</td>\n",
       "      <td>59000</td>\n",
       "      <td>RENT</td>\n",
       "      <td>123.0</td>\n",
       "      <td>PERSONAL</td>\n",
       "      <td>D</td>\n",
       "      <td>35000</td>\n",
       "      <td>16.02</td>\n",
       "      <td>1</td>\n",
       "      <td>0.59</td>\n",
       "      <td>Y</td>\n",
       "      <td>3</td>\n",
       "    </tr>\n",
       "    <tr>\n",
       "      <th>1</th>\n",
       "      <td>21</td>\n",
       "      <td>9600</td>\n",
       "      <td>OWN</td>\n",
       "      <td>5.0</td>\n",
       "      <td>EDUCATION</td>\n",
       "      <td>B</td>\n",
       "      <td>1000</td>\n",
       "      <td>11.14</td>\n",
       "      <td>0</td>\n",
       "      <td>0.10</td>\n",
       "      <td>N</td>\n",
       "      <td>2</td>\n",
       "    </tr>\n",
       "    <tr>\n",
       "      <th>2</th>\n",
       "      <td>25</td>\n",
       "      <td>9600</td>\n",
       "      <td>MORTGAGE</td>\n",
       "      <td>1.0</td>\n",
       "      <td>MEDICAL</td>\n",
       "      <td>C</td>\n",
       "      <td>5500</td>\n",
       "      <td>12.87</td>\n",
       "      <td>1</td>\n",
       "      <td>0.57</td>\n",
       "      <td>N</td>\n",
       "      <td>3</td>\n",
       "    </tr>\n",
       "    <tr>\n",
       "      <th>3</th>\n",
       "      <td>23</td>\n",
       "      <td>65500</td>\n",
       "      <td>RENT</td>\n",
       "      <td>4.0</td>\n",
       "      <td>MEDICAL</td>\n",
       "      <td>C</td>\n",
       "      <td>35000</td>\n",
       "      <td>15.23</td>\n",
       "      <td>1</td>\n",
       "      <td>0.53</td>\n",
       "      <td>N</td>\n",
       "      <td>2</td>\n",
       "    </tr>\n",
       "    <tr>\n",
       "      <th>4</th>\n",
       "      <td>24</td>\n",
       "      <td>54400</td>\n",
       "      <td>RENT</td>\n",
       "      <td>8.0</td>\n",
       "      <td>MEDICAL</td>\n",
       "      <td>C</td>\n",
       "      <td>35000</td>\n",
       "      <td>14.27</td>\n",
       "      <td>1</td>\n",
       "      <td>0.55</td>\n",
       "      <td>Y</td>\n",
       "      <td>4</td>\n",
       "    </tr>\n",
       "    <tr>\n",
       "      <th>...</th>\n",
       "      <td>...</td>\n",
       "      <td>...</td>\n",
       "      <td>...</td>\n",
       "      <td>...</td>\n",
       "      <td>...</td>\n",
       "      <td>...</td>\n",
       "      <td>...</td>\n",
       "      <td>...</td>\n",
       "      <td>...</td>\n",
       "      <td>...</td>\n",
       "      <td>...</td>\n",
       "      <td>...</td>\n",
       "    </tr>\n",
       "    <tr>\n",
       "      <th>32576</th>\n",
       "      <td>57</td>\n",
       "      <td>53000</td>\n",
       "      <td>MORTGAGE</td>\n",
       "      <td>1.0</td>\n",
       "      <td>PERSONAL</td>\n",
       "      <td>C</td>\n",
       "      <td>5800</td>\n",
       "      <td>13.16</td>\n",
       "      <td>0</td>\n",
       "      <td>0.11</td>\n",
       "      <td>N</td>\n",
       "      <td>30</td>\n",
       "    </tr>\n",
       "    <tr>\n",
       "      <th>32577</th>\n",
       "      <td>54</td>\n",
       "      <td>120000</td>\n",
       "      <td>MORTGAGE</td>\n",
       "      <td>4.0</td>\n",
       "      <td>PERSONAL</td>\n",
       "      <td>A</td>\n",
       "      <td>17625</td>\n",
       "      <td>7.49</td>\n",
       "      <td>0</td>\n",
       "      <td>0.15</td>\n",
       "      <td>N</td>\n",
       "      <td>19</td>\n",
       "    </tr>\n",
       "    <tr>\n",
       "      <th>32578</th>\n",
       "      <td>65</td>\n",
       "      <td>76000</td>\n",
       "      <td>RENT</td>\n",
       "      <td>3.0</td>\n",
       "      <td>HOMEIMPROVEMENT</td>\n",
       "      <td>B</td>\n",
       "      <td>35000</td>\n",
       "      <td>10.99</td>\n",
       "      <td>1</td>\n",
       "      <td>0.46</td>\n",
       "      <td>N</td>\n",
       "      <td>28</td>\n",
       "    </tr>\n",
       "    <tr>\n",
       "      <th>32579</th>\n",
       "      <td>56</td>\n",
       "      <td>150000</td>\n",
       "      <td>MORTGAGE</td>\n",
       "      <td>5.0</td>\n",
       "      <td>PERSONAL</td>\n",
       "      <td>B</td>\n",
       "      <td>15000</td>\n",
       "      <td>11.48</td>\n",
       "      <td>0</td>\n",
       "      <td>0.10</td>\n",
       "      <td>N</td>\n",
       "      <td>26</td>\n",
       "    </tr>\n",
       "    <tr>\n",
       "      <th>32580</th>\n",
       "      <td>66</td>\n",
       "      <td>42000</td>\n",
       "      <td>RENT</td>\n",
       "      <td>2.0</td>\n",
       "      <td>MEDICAL</td>\n",
       "      <td>B</td>\n",
       "      <td>6475</td>\n",
       "      <td>9.99</td>\n",
       "      <td>0</td>\n",
       "      <td>0.15</td>\n",
       "      <td>N</td>\n",
       "      <td>30</td>\n",
       "    </tr>\n",
       "  </tbody>\n",
       "</table>\n",
       "<p>32581 rows × 12 columns</p>\n",
       "</div>"
      ],
      "text/plain": [
       "       person_age  person_income person_home_ownership  person_emp_length   \n",
       "0              22          59000                  RENT              123.0  \\\n",
       "1              21           9600                   OWN                5.0   \n",
       "2              25           9600              MORTGAGE                1.0   \n",
       "3              23          65500                  RENT                4.0   \n",
       "4              24          54400                  RENT                8.0   \n",
       "...           ...            ...                   ...                ...   \n",
       "32576          57          53000              MORTGAGE                1.0   \n",
       "32577          54         120000              MORTGAGE                4.0   \n",
       "32578          65          76000                  RENT                3.0   \n",
       "32579          56         150000              MORTGAGE                5.0   \n",
       "32580          66          42000                  RENT                2.0   \n",
       "\n",
       "           loan_intent loan_grade  loan_amnt  loan_int_rate  loan_status   \n",
       "0             PERSONAL          D      35000          16.02            1  \\\n",
       "1            EDUCATION          B       1000          11.14            0   \n",
       "2              MEDICAL          C       5500          12.87            1   \n",
       "3              MEDICAL          C      35000          15.23            1   \n",
       "4              MEDICAL          C      35000          14.27            1   \n",
       "...                ...        ...        ...            ...          ...   \n",
       "32576         PERSONAL          C       5800          13.16            0   \n",
       "32577         PERSONAL          A      17625           7.49            0   \n",
       "32578  HOMEIMPROVEMENT          B      35000          10.99            1   \n",
       "32579         PERSONAL          B      15000          11.48            0   \n",
       "32580          MEDICAL          B       6475           9.99            0   \n",
       "\n",
       "       loan_percent_income cb_person_default_on_file   \n",
       "0                     0.59                         Y  \\\n",
       "1                     0.10                         N   \n",
       "2                     0.57                         N   \n",
       "3                     0.53                         N   \n",
       "4                     0.55                         Y   \n",
       "...                    ...                       ...   \n",
       "32576                 0.11                         N   \n",
       "32577                 0.15                         N   \n",
       "32578                 0.46                         N   \n",
       "32579                 0.10                         N   \n",
       "32580                 0.15                         N   \n",
       "\n",
       "       cb_person_cred_hist_length  \n",
       "0                               3  \n",
       "1                               2  \n",
       "2                               3  \n",
       "3                               2  \n",
       "4                               4  \n",
       "...                           ...  \n",
       "32576                          30  \n",
       "32577                          19  \n",
       "32578                          28  \n",
       "32579                          26  \n",
       "32580                          30  \n",
       "\n",
       "[32581 rows x 12 columns]"
      ]
     },
     "execution_count": 95,
     "metadata": {},
     "output_type": "execute_result"
    }
   ],
   "source": [
    "df = pd.read_csv(\"credit_risk_dataset.csv\")\n",
    "df"
   ]
  },
  {
   "cell_type": "markdown",
   "metadata": {},
   "source": [
    "### Distribution of Target Variable: _loan_status_"
   ]
  },
  {
   "cell_type": "code",
   "execution_count": 96,
   "metadata": {
    "scrolled": false
   },
   "outputs": [
    {
     "data": {
      "text/plain": [
       "<Axes: xlabel='loan_status', ylabel='count'>"
      ]
     },
     "execution_count": 96,
     "metadata": {},
     "output_type": "execute_result"
    },
    {
     "data": {
      "image/png": "[encoded data removed]",
      "text/plain": [
       "<Figure size 640x480 with 1 Axes>"
      ]
     },
     "metadata": {},
     "output_type": "display_data"
    }
   ],
   "source": [
    "sns.countplot(x=df.loan_status)"
   ]
  },
  {
   "cell_type": "markdown",
   "metadata": {},
   "source": [
    "### Split the data"
   ]
  },
  {
   "cell_type": "code",
   "execution_count": 97,
   "metadata": {},
   "outputs": [],
   "source": [
    "train, test = train_test_split(df, random_state=123)"
   ]
  },
  {
   "cell_type": "markdown",
   "metadata": {},
   "source": [
    "### Categorize Features\n",
    "\n",
    "We categorize the features into _numeric_features_ (any columns that are numeric) , _categorical_features_ (any columns that can be split into definitive categories) , and _drop_features_ (any features that are irrelevant or the target variable)"
   ]
  },
  {
   "cell_type": "code",
   "execution_count": 98,
   "metadata": {},
   "outputs": [],
   "source": [
    "numeric_features = ['person_income', 'person_emp_length', 'loan_amnt', 'loan_int_rate', 'loan_percent_income', 'cb_person_cred_hist_length']\n",
    "categorical_features = ['person_age', 'person_home_ownership', 'loan_intent', 'loan_grade', 'cb_person_default_on_file']\n",
    "drop_features = ['loan_status']"
   ]
  },
  {
   "cell_type": "markdown",
   "metadata": {},
   "source": [
    "### Preprocessing Pipeline\n",
    "\n",
    "Our data isn't perfect, there missing or N/A data so we should clean it up a bit. \n",
    "\n",
    "_numeric_features_ data is replaced with the most frequent occurance in that column <br>\n",
    "_categorical_features_ data is replaced with _?_ as each categorical feature column has unique data\n",
    "\n",
    "Once the data has been imputed and encoded, the pipeline returns _y_train_, _y_test_, the preprocessor, and the encoded X train and test (_X_train_enc_ and _X_test_enc_)"
   ]
  },
  {
   "cell_type": "code",
   "execution_count": 99,
   "metadata": {},
   "outputs": [],
   "source": [
    "def preprocess_features(train, test, numeric_features, categorical_features, drop_features):\n",
    "    \n",
    "    all_features = set(numeric_features + categorical_features + drop_features)\n",
    "    \n",
    "    if set(train.columns) != all_features:\n",
    "        print(\"Missing columns\", set(df_train.columns) - all_features)\n",
    "        print(\"Extra columns\", all_features - set(df_train.columns))\n",
    "        raise Exception(\"Columns do not match\")\n",
    "    \n",
    "    numeric_transformer = Pipeline([\n",
    "        ('imputer', SimpleImputer(strategy='most_frequent')),\n",
    "        ('scaler', StandardScaler())\n",
    "    ])  \n",
    "    categorical_transformer = Pipeline([\n",
    "        ('imputer', SimpleImputer(strategy='constant', fill_value='?')),\n",
    "        ('onehot', OneHotEncoder(handle_unknown='ignore'))\n",
    "    ])\n",
    "    preprocessor = ColumnTransformer([\n",
    "        ('numeric', numeric_transformer, numeric_features),\n",
    "        ('categorical', categorical_transformer, categorical_features)\n",
    "    ])\n",
    "    \n",
    "    preprocessor.fit(train)\n",
    "    \n",
    "    one_hot_encoding = preprocessor.named_transformers_['categorical'].named_steps['onehot']\n",
    "    ohe_feature_names = list(one_hot_encoding.get_feature_names_out(categorical_features))\n",
    "    new_columns = numeric_features + ohe_feature_names\n",
    "    \n",
    "    X_train_enc = pd.DataFrame(preprocessor.transform(train).toarray(), index=train.index, columns=new_columns)\n",
    "    X_test_enc  = pd.DataFrame(preprocessor.transform(test).toarray(),  index=test.index,  columns=new_columns)\n",
    "    \n",
    "    y_train = train[\"loan_status\"]\n",
    "    y_test  = test[\"loan_status\"]\n",
    "    \n",
    "    return X_train_enc, y_train, X_test_enc, y_test, preprocessor"
   ]
  },
  {
   "cell_type": "code",
   "execution_count": 100,
   "metadata": {},
   "outputs": [],
   "source": [
    "X_train_enc, y_train, X_test_enc, y_test, preprocessor = preprocess_features(train, test, numeric_features, categorical_features, drop_features)"
   ]
  },
  {
   "cell_type": "markdown",
   "metadata": {},
   "source": [
    "### Outlier Detection: Isolation Forest\n",
    "\n",
    "The IsolationForest only detected 44 outliers on a dataset of 32581 rows × 12 columns. This means that although there are some outliers, there is not a large enough propoertion to skew future results"
   ]
  },
  {
   "cell_type": "code",
   "execution_count": 101,
   "metadata": {},
   "outputs": [
    {
     "name": "stdout",
     "output_type": "stream",
     "text": [
      "IsolationForest detected 44 outliers.\n"
     ]
    }
   ],
   "source": [
    "isolation = IsolationForest(random_state=123)\n",
    "predicted_outliers_if = isolation.fit_predict(X_train_enc)\n",
    "predicted_outliers_if = predicted_outliers_if < 0\n",
    "n_outliers_if = sum(predicted_outliers_if)\n",
    "print(\"IsolationForest detected\", n_outliers_if, \"outliers.\")"
   ]
  },
  {
   "cell_type": "markdown",
   "metadata": {},
   "source": [
    "### Outlier Detection DBSCAN\n",
    "\n",
    "To validate the results of IsolationForest, we opt to use DBSCAN as well. DBSCAN however, is a bit more complicated, the steps to find outliers is as follows:\n",
    "\n",
    "1. Compute the pairwise distances between all data points"
   ]
  },
  {
   "cell_type": "code",
   "execution_count": 102,
   "metadata": {},
   "outputs": [],
   "source": [
    "neigh = NearestNeighbors(n_neighbors=2)\n",
    "nbrs = neigh.fit(X_train_enc)\n",
    "distances, indices = nbrs.kneighbors(X_train_enc)"
   ]
  },
  {
   "cell_type": "markdown",
   "metadata": {},
   "source": [
    "2. Sort the distances and plot them to find an elbow point"
   ]
  },
  {
   "cell_type": "code",
   "execution_count": 103,
   "metadata": {},
   "outputs": [
    {
     "data": {
      "text/plain": [
       "Text(0.5, 1.0, 'Elbow Plot from KNN')"
      ]
     },
     "execution_count": 103,
     "metadata": {},
     "output_type": "execute_result"
    },
    {
     "data": {
      "image/png": "[encoded data removed]",
      "text/plain": [
       "<Figure size 640x480 with 1 Axes>"
      ]
     },
     "metadata": {},
     "output_type": "display_data"
    }
   ],
   "source": [
    "distances = np.sort(distances, axis=0)\n",
    "distances = distances[:,1]\n",
    "plt.plot(distances)\n",
    "plt.title(\"Elbow Plot from KNN\")"
   ]
  },
  {
   "cell_type": "markdown",
   "metadata": {},
   "source": [
    "3. Find the optimal _eps_ hyperparameter for DBSCAN from the elbow plot"
   ]
  },
  {
   "cell_type": "code",
   "execution_count": 104,
   "metadata": {},
   "outputs": [],
   "source": [
    "ddist = np.gradient(np.gradient(distances))\n",
    "eps_idx = np.argmax(ddist)\n",
    "eps = distances[eps_idx]"
   ]
  },
  {
   "cell_type": "markdown",
   "metadata": {},
   "source": [
    "4. Perform DBSCAN and find the outliers"
   ]
  },
  {
   "cell_type": "code",
   "execution_count": 105,
   "metadata": {},
   "outputs": [
    {
     "name": "stdout",
     "output_type": "stream",
     "text": [
      "DBSCAN detected 0 outliers.\n"
     ]
    }
   ],
   "source": [
    "dbscan = DBSCAN(eps=eps, min_samples=5)\n",
    "dbscan.fit(X_train_enc)\n",
    "predicted_outliers_dbscan = dbscan.labels_ == -1\n",
    "n_outliers_dbscan = sum(predicted_outliers_dbscan)\n",
    "print(\"DBSCAN detected\", n_outliers_dbscan, \"outliers.\")"
   ]
  },
  {
   "cell_type": "markdown",
   "metadata": {},
   "source": [
    "From this we see that although IsolationForest found 44 outliers, DBSCAN found 0. This is because each performs outlier detection in a different way. IsolationForest is effective at detecting isolated anomalies regardless of the data's underlying distribution. Whereas, DBSCAN is a density-based clustering algorithm that can identify clusters and detect outliers as noise points. It's suitable when outliers are characterized by their low density compared to the surrounding data. Luckily for us in this analysis, the number of outliers will likely have very little effect on the end results thus we do not need to decide between the two detection methods."
   ]
  },
  {
   "cell_type": "markdown",
   "metadata": {},
   "source": [
    "### Scoring: Dummy Classifier"
   ]
  },
  {
   "cell_type": "code",
   "execution_count": 107,
   "metadata": {},
   "outputs": [],
   "source": [
    "dc = DummyClassifier(strategy='stratified', random_state=123)\n",
    "dc.fit(train, y_train)\n",
    "dc_trscore = dc.score(train, y_train)\n",
    "dc_tescore = dc.score(test, y_test)"
   ]
  },
  {
   "cell_type": "markdown",
   "metadata": {},
   "source": [
    "### Scoring: Logistic Regression"
   ]
  },
  {
   "cell_type": "code",
   "execution_count": 108,
   "metadata": {},
   "outputs": [],
   "source": [
    "lr_pipe = make_pipeline(preprocessor, LogisticRegression(max_iter=2000, random_state=123))\n",
    "lr_pipe.fit(train, y_train)\n",
    "lr_trscore = lr_pipe.score(train, y_train)\n",
    "lr_tescore = lr_pipe.score(test, y_test)"
   ]
  },
  {
   "cell_type": "markdown",
   "metadata": {},
   "source": [
    "### Scoring: LGBM Classifier"
   ]
  },
  {
   "cell_type": "code",
   "execution_count": 109,
   "metadata": {},
   "outputs": [],
   "source": [
    "lgbm_pipe = make_pipeline(preprocessor, LGBMClassifier(random_state=123))\n",
    "lgbm_pipe.fit(train, y_train)\n",
    "lgbm_trscore = lgbm_pipe.score(train, y_train)\n",
    "lgbm_tescore = lgbm_pipe.score(test, y_test)"
   ]
  },
  {
   "cell_type": "markdown",
   "metadata": {},
   "source": [
    "### Scoring: AdaBoost Classifier"
   ]
  },
  {
   "cell_type": "code",
   "execution_count": 110,
   "metadata": {},
   "outputs": [],
   "source": [
    "ada_pipe = make_pipeline(preprocessor, AdaBoostClassifier(random_state=123))\n",
    "ada_pipe.fit(train, y_train)\n",
    "ada_trscore = ada_pipe.score(train, y_train)\n",
    "ada_tescore = ada_pipe.score(test, y_test)"
   ]
  },
  {
   "cell_type": "markdown",
   "metadata": {},
   "source": [
    "### Scoring: Random Forest Classifier"
   ]
  },
  {
   "cell_type": "code",
   "execution_count": 111,
   "metadata": {},
   "outputs": [],
   "source": [
    "rf_pipe = make_pipeline(preprocessor, RandomForestClassifier(random_state=123))\n",
    "rf_pipe.fit(train, y_train)\n",
    "rf_trscore = rf_pipe.score(train, y_train)\n",
    "rf_tescore = rf_pipe.score(test, y_test)"
   ]
  },
  {
   "cell_type": "markdown",
   "metadata": {},
   "source": [
    "### Scoring: Gradient Boosting Classifier"
   ]
  },
  {
   "cell_type": "code",
   "execution_count": 112,
   "metadata": {},
   "outputs": [],
   "source": [
    "gb_pipe = make_pipeline(preprocessor, GradientBoostingClassifier(random_state=123))\n",
    "gb_pipe.fit(train, y_train)\n",
    "gb_trscore = gb_pipe.score(train, y_train)\n",
    "gb_tescore = gb_pipe.score(test, y_test)"
   ]
  },
  {
   "cell_type": "markdown",
   "metadata": {},
   "source": [
    "### Scoring: SVC"
   ]
  },
  {
   "cell_type": "code",
   "execution_count": 113,
   "metadata": {},
   "outputs": [],
   "source": [
    "svc_pipe = make_pipeline(preprocessor, SVC(random_state=123))\n",
    "svc_pipe.fit(train, y_train)\n",
    "svc_trscore = svc_pipe.score(train, y_train)\n",
    "svc_tescore = svc_pipe.score(test, y_test)"
   ]
  },
  {
   "cell_type": "markdown",
   "metadata": {},
   "source": [
    "### Scoring: KNN Classifier"
   ]
  },
  {
   "cell_type": "code",
   "execution_count": 114,
   "metadata": {},
   "outputs": [],
   "source": [
    "knn_pipe = make_pipeline(preprocessor, KNeighborsClassifier())\n",
    "knn_pipe.fit(train, y_train)\n",
    "knn_trscore = knn_pipe.score(train, y_train)\n",
    "knn_tescore = knn_pipe.score(test, y_test)"
   ]
  },
  {
   "cell_type": "markdown",
   "metadata": {},
   "source": [
    "### Scoring Summary\n",
    "\n",
    "We find that LGBM Classifier had the highest test score and Dummy Classifier had the lowest. A higher test score indicates how much better the model has generalized the data. Meaning that LGBM did the best at generalizing our credit risk data. Since there is no significant difference between the training score and test score, it is likely that none of the models overfit the data. We will still perform cross-validation and hyperparameter tuning as it may change which classifier we should consider using in deployment."
   ]
  },
  {
   "cell_type": "code",
   "execution_count": 115,
   "metadata": {},
   "outputs": [
    {
     "data": {
      "text/html": [
       "<div>\n",
       "<style scoped>\n",
       "    .dataframe tbody tr th:only-of-type {\n",
       "        vertical-align: middle;\n",
       "    }\n",
       "\n",
       "    .dataframe tbody tr th {\n",
       "        vertical-align: top;\n",
       "    }\n",
       "\n",
       "    .dataframe thead th {\n",
       "        text-align: right;\n",
       "    }\n",
       "</style>\n",
       "<table border=\"1\" class=\"dataframe\">\n",
       "  <thead>\n",
       "    <tr style=\"text-align: right;\">\n",
       "      <th></th>\n",
       "      <th>Train Score</th>\n",
       "      <th>Test Score</th>\n",
       "    </tr>\n",
       "  </thead>\n",
       "  <tbody>\n",
       "    <tr>\n",
       "      <th>LightGBM Classifier</th>\n",
       "      <td>0.943278</td>\n",
       "      <td>0.934569</td>\n",
       "    </tr>\n",
       "    <tr>\n",
       "      <th>Random Forest</th>\n",
       "      <td>0.999959</td>\n",
       "      <td>0.932114</td>\n",
       "    </tr>\n",
       "    <tr>\n",
       "      <th>Gradient Boosting</th>\n",
       "      <td>0.928709</td>\n",
       "      <td>0.925117</td>\n",
       "    </tr>\n",
       "    <tr>\n",
       "      <th>SVM</th>\n",
       "      <td>0.922161</td>\n",
       "      <td>0.916155</td>\n",
       "    </tr>\n",
       "    <tr>\n",
       "      <th>KNN</th>\n",
       "      <td>0.911725</td>\n",
       "      <td>0.887798</td>\n",
       "    </tr>\n",
       "    <tr>\n",
       "      <th>AdaBoost Classifier</th>\n",
       "      <td>0.885451</td>\n",
       "      <td>0.882519</td>\n",
       "    </tr>\n",
       "    <tr>\n",
       "      <th>Logistic Regression</th>\n",
       "      <td>0.864743</td>\n",
       "      <td>0.870489</td>\n",
       "    </tr>\n",
       "    <tr>\n",
       "      <th>Dummy Classifier</th>\n",
       "      <td>0.661592</td>\n",
       "      <td>0.661061</td>\n",
       "    </tr>\n",
       "  </tbody>\n",
       "</table>\n",
       "</div>"
      ],
      "text/plain": [
       "                     Train Score  Test Score\n",
       "LightGBM Classifier     0.943278    0.934569\n",
       "Random Forest           0.999959    0.932114\n",
       "Gradient Boosting       0.928709    0.925117\n",
       "SVM                     0.922161    0.916155\n",
       "KNN                     0.911725    0.887798\n",
       "AdaBoost Classifier     0.885451    0.882519\n",
       "Logistic Regression     0.864743    0.870489\n",
       "Dummy Classifier        0.661592    0.661061"
      ]
     },
     "execution_count": 115,
     "metadata": {},
     "output_type": "execute_result"
    }
   ],
   "source": [
    "score_summary = pd.DataFrame([dc_trscore, lr_trscore, lgbm_trscore, ada_trscore,\n",
    "                              rf_trscore, gb_trscore, svc_trscore, knn_trscore],\n",
    "                             index=[\"Dummy Classifier\", \"Logistic Regression\", \"LightGBM Classifier\", \n",
    "                                    \"AdaBoost Classifier\", \"Random Forest\", \"Gradient Boosting\", \"SVM\", \"KNN\"])\n",
    "score_summary['Test Score'] = [dc_tescore, lr_tescore, lgbm_tescore, ada_tescore, rf_tescore, gb_tescore, svc_tescore, knn_tescore]\n",
    "score_summary.columns = ['Train Score', 'Test Score']\n",
    "score_summary = score_summary.sort_values(by=['Test Score'], ascending=False)\n",
    "score_summary"
   ]
  },
  {
   "cell_type": "markdown",
   "metadata": {},
   "source": [
    "### Cross-validation"
   ]
  },
  {
   "cell_type": "code",
   "execution_count": 116,
   "metadata": {},
   "outputs": [],
   "source": [
    "dc_results = pd.DataFrame(cross_validate(dc, train, y_train, return_train_score=True)).mean()\n",
    "\n",
    "lr_results = pd.DataFrame(cross_validate(lr_pipe, train, y_train, return_train_score=True)).mean()\n",
    "\n",
    "lgbm_results = pd.DataFrame(cross_validate(lgbm_pipe, train, y_train, return_train_score=True)).mean()\n",
    "\n",
    "ada_results = pd.DataFrame(cross_validate(ada_pipe, train, y_train, return_train_score=True)).mean()\n",
    "\n",
    "rf_results = pd.DataFrame(cross_validate(rf_pipe, train, y_train, return_train_score=True)).mean()\n",
    "\n",
    "gb_results = pd.DataFrame(cross_validate(gb_pipe, train, y_train, return_train_score=True)).mean()\n",
    "\n",
    "svc_results = pd.DataFrame(cross_validate(svc_pipe, train, y_train, return_train_score=True)).mean()\n",
    "\n",
    "knn_results = pd.DataFrame(cross_validate(knn_pipe, train, y_train, return_train_score=True)).mean()"
   ]
  },
  {
   "cell_type": "markdown",
   "metadata": {},
   "source": [
    "### Cross-validation Summary\n",
    "\n",
    "Although in the previous part we recognized that there is _likely_ no overfitting that occurs, we see that LGBM is still the model with the highest test score indicating that there wasn't any overfitting."
   ]
  },
  {
   "cell_type": "code",
   "execution_count": 117,
   "metadata": {},
   "outputs": [
    {
     "data": {
      "text/html": [
       "<div>\n",
       "<style scoped>\n",
       "    .dataframe tbody tr th:only-of-type {\n",
       "        vertical-align: middle;\n",
       "    }\n",
       "\n",
       "    .dataframe tbody tr th {\n",
       "        vertical-align: top;\n",
       "    }\n",
       "\n",
       "    .dataframe thead th {\n",
       "        text-align: right;\n",
       "    }\n",
       "</style>\n",
       "<table border=\"1\" class=\"dataframe\">\n",
       "  <thead>\n",
       "    <tr style=\"text-align: right;\">\n",
       "      <th></th>\n",
       "      <th>fit_time</th>\n",
       "      <th>score_time</th>\n",
       "      <th>test_score</th>\n",
       "      <th>train_score</th>\n",
       "    </tr>\n",
       "  </thead>\n",
       "  <tbody>\n",
       "    <tr>\n",
       "      <th>LightGBM Classifier</th>\n",
       "      <td>0.218327</td>\n",
       "      <td>0.019200</td>\n",
       "      <td>0.934807</td>\n",
       "      <td>0.945815</td>\n",
       "    </tr>\n",
       "    <tr>\n",
       "      <th>Random Forest</th>\n",
       "      <td>9.150616</td>\n",
       "      <td>0.089008</td>\n",
       "      <td>0.932638</td>\n",
       "      <td>0.999990</td>\n",
       "    </tr>\n",
       "    <tr>\n",
       "      <th>Gradient Boosting</th>\n",
       "      <td>2.687978</td>\n",
       "      <td>0.018804</td>\n",
       "      <td>0.925107</td>\n",
       "      <td>0.928105</td>\n",
       "    </tr>\n",
       "    <tr>\n",
       "      <th>SVM</th>\n",
       "      <td>6.933975</td>\n",
       "      <td>0.938010</td>\n",
       "      <td>0.912707</td>\n",
       "      <td>0.921567</td>\n",
       "    </tr>\n",
       "    <tr>\n",
       "      <th>AdaBoost Classifier</th>\n",
       "      <td>0.940524</td>\n",
       "      <td>0.037807</td>\n",
       "      <td>0.884837</td>\n",
       "      <td>0.885922</td>\n",
       "    </tr>\n",
       "    <tr>\n",
       "      <th>KNN</th>\n",
       "      <td>0.055085</td>\n",
       "      <td>1.570017</td>\n",
       "      <td>0.878903</td>\n",
       "      <td>0.909372</td>\n",
       "    </tr>\n",
       "    <tr>\n",
       "      <th>Logistic Regression</th>\n",
       "      <td>0.298141</td>\n",
       "      <td>0.011200</td>\n",
       "      <td>0.864047</td>\n",
       "      <td>0.864723</td>\n",
       "    </tr>\n",
       "    <tr>\n",
       "      <th>Dummy Classifier</th>\n",
       "      <td>0.002399</td>\n",
       "      <td>0.000999</td>\n",
       "      <td>0.658686</td>\n",
       "      <td>0.659188</td>\n",
       "    </tr>\n",
       "  </tbody>\n",
       "</table>\n",
       "</div>"
      ],
      "text/plain": [
       "                     fit_time  score_time  test_score  train_score\n",
       "LightGBM Classifier  0.218327    0.019200    0.934807     0.945815\n",
       "Random Forest        9.150616    0.089008    0.932638     0.999990\n",
       "Gradient Boosting    2.687978    0.018804    0.925107     0.928105\n",
       "SVM                  6.933975    0.938010    0.912707     0.921567\n",
       "AdaBoost Classifier  0.940524    0.037807    0.884837     0.885922\n",
       "KNN                  0.055085    1.570017    0.878903     0.909372\n",
       "Logistic Regression  0.298141    0.011200    0.864047     0.864723\n",
       "Dummy Classifier     0.002399    0.000999    0.658686     0.659188"
      ]
     },
     "execution_count": 117,
     "metadata": {},
     "output_type": "execute_result"
    }
   ],
   "source": [
    "cv_summary = pd.DataFrame([dc_results, lr_results, lgbm_results, ada_results,\n",
    "                           rf_results, gb_results, svc_results, knn_results],\n",
    "                          index=[\"Dummy Classifier\", \"Logistic Regression\", \"LightGBM Classifier\", \n",
    "                                 \"AdaBoost Classifier\", \"Random Forest\", \"Gradient Boosting\", \"SVM\", \"KNN\"])\n",
    "cv_summary = cv_summary.sort_values(by=[\"test_score\"], ascending=False)\n",
    "cv_summary"
   ]
  },
  {
   "cell_type": "markdown",
   "metadata": {},
   "source": [
    "### Hyperparameter Tuning: Logistic Regression"
   ]
  },
  {
   "cell_type": "code",
   "execution_count": 118,
   "metadata": {
    "scrolled": false
   },
   "outputs": [
    {
     "name": "stdout",
     "output_type": "stream",
     "text": [
      "Fitting 5 folds for each of 42 candidates, totalling 210 fits\n",
      "Best parameters: {'logisticregression__C': 1, 'logisticregression__class_weight': None, 'logisticregression__max_iter': 500}\n",
      "Test score: 0.864\n"
     ]
    }
   ],
   "source": [
    "lr_param_grid = {\n",
    "    \"logisticregression__C\": [0.001, 0.01, 1, 10, 100, 1000, 10000],\n",
    "    \"logisticregression__class_weight\": [None, 'balanced'],\n",
    "    \"logisticregression__max_iter\": [500, 1000, 2000],\n",
    "}\n",
    "\n",
    "grid_search_lr = GridSearchCV(lr_pipe, lr_param_grid, verbose=2, n_jobs=-1, cv=5, scoring='accuracy')\n",
    "grid_search_lr.fit(train, y_train)\n",
    "\n",
    "lr_trscore = grid_search_lr.score(train, y_train)\n",
    "lr_tescore = grid_search_lr.score(test, y_test)\n",
    "\n",
    "print(f\"Best parameters: {grid_search_lr.best_params_}\")\n",
    "print(f\"Test score: {grid_search_lr.best_score_:.3f}\")"
   ]
  },
  {
   "cell_type": "markdown",
   "metadata": {},
   "source": [
    "### Hyperparameter Tuning: LGBM Classifier"
   ]
  },
  {
   "cell_type": "code",
   "execution_count": 119,
   "metadata": {
    "scrolled": false
   },
   "outputs": [
    {
     "name": "stdout",
     "output_type": "stream",
     "text": [
      "Fitting 5 folds for each of 729 candidates, totalling 3645 fits\n",
      "Best parameters: {'lgbmclassifier__learning_rate': 0.1, 'lgbmclassifier__max_depth': 7, 'lgbmclassifier__min_child_samples': 20, 'lgbmclassifier__n_estimators': 200, 'lgbmclassifier__reg_alpha': 0, 'lgbmclassifier__reg_lambda': 0.1}\n",
      "Test score: 0.936\n"
     ]
    }
   ],
   "source": [
    "param_grid = {\n",
    "    \"lgbmclassifier__learning_rate\": [0.05, 0.1, 0.2],\n",
    "    \"lgbmclassifier__n_estimators\": [50, 100, 200],\n",
    "    \"lgbmclassifier__max_depth\": [3, 5, 7],\n",
    "    \"lgbmclassifier__reg_alpha\": [0, 0.1, 0.5],\n",
    "    \"lgbmclassifier__reg_lambda\": [0, 0.1, 0.5],\n",
    "    \"lgbmclassifier__min_child_samples\": [5, 10, 20]\n",
    "}\n",
    "\n",
    "grid_search_lgbm = GridSearchCV(lgbm_pipe, param_grid, verbose=2, n_jobs=-1, cv=5, scoring='accuracy')\n",
    "grid_search_lgbm.fit(train, y_train)\n",
    "\n",
    "lgbm_trscore = grid_search_lgbm.score(train, y_train)\n",
    "lgbm_tescore = grid_search_lgbm.score(test, y_test)\n",
    "\n",
    "print(f\"Best parameters: {grid_search_lgbm.best_params_}\")\n",
    "print(f\"Test score: {grid_search_lgbm.best_score_:.3f}\")"
   ]
  },
  {
   "cell_type": "markdown",
   "metadata": {},
   "source": [
    "### Hyperparameter Tuning: AdaBoost Classifier"
   ]
  },
  {
   "cell_type": "code",
   "execution_count": 120,
   "metadata": {
    "scrolled": false
   },
   "outputs": [
    {
     "name": "stdout",
     "output_type": "stream",
     "text": [
      "Fitting 5 folds for each of 16 candidates, totalling 80 fits\n",
      "Best parameters: {'adaboostclassifier__learning_rate': 1, 'adaboostclassifier__n_estimators': 500}\n",
      "Test score: 0.888\n"
     ]
    }
   ],
   "source": [
    "param_grid_ada = {\n",
    "    \"adaboostclassifier__n_estimators\": [50, 100, 200, 500],\n",
    "    \"adaboostclassifier__learning_rate\": [0.001, 0.01, 0.1, 1]\n",
    "}\n",
    "\n",
    "grid_search_ada = GridSearchCV(ada_pipe, param_grid_ada, verbose=2, n_jobs=-1, cv=5, scoring='accuracy')\n",
    "grid_search_ada.fit(train, y_train)\n",
    "\n",
    "ada_trscore = grid_search_ada.score(train, y_train)\n",
    "ada_tescore = grid_search_ada.score(test, y_test)\n",
    "\n",
    "print(f\"Best parameters: {grid_search_ada.best_params_}\")\n",
    "print(f\"Test score: {grid_search_ada.best_score_:.3f}\")"
   ]
  },
  {
   "cell_type": "markdown",
   "metadata": {},
   "source": [
    "### Hyperparameter Tuning: Random Forest Classifier"
   ]
  },
  {
   "cell_type": "code",
   "execution_count": 121,
   "metadata": {},
   "outputs": [
    {
     "name": "stdout",
     "output_type": "stream",
     "text": [
      "Fitting 5 folds for each of 162 candidates, totalling 810 fits\n",
      "Best parameters: {'randomforestclassifier__max_depth': 7, 'randomforestclassifier__max_features': 'sqrt', 'randomforestclassifier__min_samples_leaf': 1, 'randomforestclassifier__min_samples_split': 2, 'randomforestclassifier__n_estimators': 200}\n",
      "Test score: 0.910\n"
     ]
    }
   ],
   "source": [
    "param_grid = {\n",
    "    \"randomforestclassifier__n_estimators\": [50, 100, 200],\n",
    "    \"randomforestclassifier__max_depth\": [3, 5, 7],\n",
    "    \"randomforestclassifier__min_samples_split\": [2, 5, 10],\n",
    "    \"randomforestclassifier__min_samples_leaf\": [1, 2, 4],\n",
    "    \"randomforestclassifier__max_features\": ['sqrt', 'log2']\n",
    "}\n",
    "\n",
    "grid_search_rf = GridSearchCV(rf_pipe, param_grid, verbose=2, n_jobs=-1, cv=5, scoring='accuracy')\n",
    "grid_search_rf.fit(train, y_train)\n",
    "\n",
    "rf_trscore = grid_search_rf.score(train, y_train)\n",
    "rf_tescore = grid_search_rf.score(test, y_test)\n",
    "\n",
    "print(f\"Best parameters: {grid_search_rf.best_params_}\")\n",
    "print(f\"Test score: {grid_search_rf.best_score_:.3f}\")"
   ]
  },
  {
   "cell_type": "markdown",
   "metadata": {},
   "source": [
    "### Hyperparameter Tuning: Gradient Boosting Classifier"
   ]
  },
  {
   "cell_type": "code",
   "execution_count": 122,
   "metadata": {
    "scrolled": false
   },
   "outputs": [
    {
     "name": "stdout",
     "output_type": "stream",
     "text": [
      "Fitting 5 folds for each of 162 candidates, totalling 810 fits\n",
      "Best parameters: {'gradientboostingclassifier__max_depth': 7, 'gradientboostingclassifier__max_features': 'sqrt', 'gradientboostingclassifier__min_samples_leaf': 2, 'gradientboostingclassifier__min_samples_split': 2, 'gradientboostingclassifier__n_estimators': 200}\n",
      "Test score: 0.934\n"
     ]
    }
   ],
   "source": [
    "param_grid = {\n",
    "    \"gradientboostingclassifier__n_estimators\": [50, 100, 200],\n",
    "    \"gradientboostingclassifier__max_depth\": [3, 5, 7],\n",
    "    \"gradientboostingclassifier__min_samples_split\": [2, 5, 10],\n",
    "    \"gradientboostingclassifier__min_samples_leaf\": [1, 2, 4],\n",
    "    \"gradientboostingclassifier__max_features\": ['sqrt', 'log2']\n",
    "}\n",
    "\n",
    "grid_search_gb = GridSearchCV(gb_pipe, param_grid, verbose=2, n_jobs=-1, cv=5, scoring='accuracy')\n",
    "grid_search_gb.fit(train, y_train)\n",
    "\n",
    "gb_trscore = grid_search_gb.score(train, y_train)\n",
    "gb_tescore = grid_search_gb.score(test, y_test)\n",
    "\n",
    "print(f\"Best parameters: {grid_search_gb.best_params_}\")\n",
    "print(f\"Test score: {grid_search_gb.best_score_:.3f}\")"
   ]
  },
  {
   "cell_type": "markdown",
   "metadata": {},
   "source": [
    "### Hyperparameter Tuning: SVC"
   ]
  },
  {
   "cell_type": "code",
   "execution_count": 123,
   "metadata": {
    "scrolled": false
   },
   "outputs": [
    {
     "name": "stdout",
     "output_type": "stream",
     "text": [
      "Fitting 5 folds for each of 4 candidates, totalling 20 fits\n",
      "Best parameters: {'svc__C': 10}\n",
      "Test score: 0.917\n"
     ]
    }
   ],
   "source": [
    "param_grid_svc = {\n",
    "    \"svc__C\": [0.1, 1, 10, 100],\n",
    "#     \"svc__kernel\": [\"linear\", \"rbf\", \"poly\"], TOO SLOW\n",
    "#     \"svc__gamma\": [\"scale\", \"auto\"], TOO SLOW\n",
    "}\n",
    "\n",
    "grid_search_svc = GridSearchCV(svc_pipe, param_grid_svc, verbose=2, n_jobs=-1, cv=5, scoring='accuracy')\n",
    "grid_search_svc.fit(train, y_train)\n",
    "\n",
    "svc_trscore = grid_search_svc.score(train, y_train)\n",
    "svc_tescore = grid_search_svc.score(test, y_test)\n",
    "\n",
    "print(f\"Best parameters: {grid_search_svc.best_params_}\")\n",
    "print(f\"Test score: {grid_search_svc.best_score_:.3f}\")"
   ]
  },
  {
   "cell_type": "markdown",
   "metadata": {},
   "source": [
    "### Hyperparameter Tuning: KNN Classifier"
   ]
  },
  {
   "cell_type": "code",
   "execution_count": 124,
   "metadata": {
    "scrolled": false
   },
   "outputs": [
    {
     "name": "stdout",
     "output_type": "stream",
     "text": [
      "Fitting 5 folds for each of 8 candidates, totalling 40 fits\n",
      "Best parameters: {'kneighborsclassifier__n_neighbors': 9, 'kneighborsclassifier__weights': 'distance'}\n",
      "Test score: 0.886\n"
     ]
    }
   ],
   "source": [
    "param_grid_knn = {\n",
    "    \"kneighborsclassifier__n_neighbors\": [3, 5, 7, 9],\n",
    "    \"kneighborsclassifier__weights\": [\"uniform\", \"distance\"],\n",
    "}\n",
    "\n",
    "grid_search_knn = GridSearchCV(knn_pipe, param_grid_knn, verbose=2, n_jobs=-1, cv=5, scoring='accuracy')\n",
    "grid_search_knn.fit(train, y_train)\n",
    "\n",
    "knn_trscore = grid_search_knn.score(train, y_train)\n",
    "knn_tescore = grid_search_knn.score(test, y_test)\n",
    "\n",
    "print(f\"Best parameters: {grid_search_knn.best_params_}\")\n",
    "print(f\"Test score: {grid_search_knn.best_score_:.3f}\")"
   ]
  },
  {
   "cell_type": "markdown",
   "metadata": {},
   "source": [
    "### Hyperparameter Tuning Summary"
   ]
  },
  {
   "cell_type": "code",
   "execution_count": 125,
   "metadata": {},
   "outputs": [
    {
     "data": {
      "text/html": [
       "<div>\n",
       "<style scoped>\n",
       "    .dataframe tbody tr th:only-of-type {\n",
       "        vertical-align: middle;\n",
       "    }\n",
       "\n",
       "    .dataframe tbody tr th {\n",
       "        vertical-align: top;\n",
       "    }\n",
       "\n",
       "    .dataframe thead th {\n",
       "        text-align: right;\n",
       "    }\n",
       "</style>\n",
       "<table border=\"1\" class=\"dataframe\">\n",
       "  <thead>\n",
       "    <tr style=\"text-align: right;\">\n",
       "      <th></th>\n",
       "      <th>Train Score tuned</th>\n",
       "      <th>Test Score tuned</th>\n",
       "    </tr>\n",
       "  </thead>\n",
       "  <tbody>\n",
       "    <tr>\n",
       "      <th>LightGBM Classifier</th>\n",
       "      <td>0.951586</td>\n",
       "      <td>0.935797</td>\n",
       "    </tr>\n",
       "    <tr>\n",
       "      <th>Gradient Boosting</th>\n",
       "      <td>0.952118</td>\n",
       "      <td>0.934692</td>\n",
       "    </tr>\n",
       "    <tr>\n",
       "      <th>SVM</th>\n",
       "      <td>0.939636</td>\n",
       "      <td>0.918610</td>\n",
       "    </tr>\n",
       "    <tr>\n",
       "      <th>Random Forest</th>\n",
       "      <td>0.914344</td>\n",
       "      <td>0.912595</td>\n",
       "    </tr>\n",
       "    <tr>\n",
       "      <th>KNN</th>\n",
       "      <td>1.000000</td>\n",
       "      <td>0.891849</td>\n",
       "    </tr>\n",
       "    <tr>\n",
       "      <th>AdaBoost Classifier</th>\n",
       "      <td>0.892695</td>\n",
       "      <td>0.890376</td>\n",
       "    </tr>\n",
       "    <tr>\n",
       "      <th>Logistic Regression</th>\n",
       "      <td>0.864743</td>\n",
       "      <td>0.870489</td>\n",
       "    </tr>\n",
       "    <tr>\n",
       "      <th>Dummy Classifier</th>\n",
       "      <td>0.661592</td>\n",
       "      <td>0.661061</td>\n",
       "    </tr>\n",
       "  </tbody>\n",
       "</table>\n",
       "</div>"
      ],
      "text/plain": [
       "                     Train Score tuned  Test Score tuned\n",
       "LightGBM Classifier           0.951586          0.935797\n",
       "Gradient Boosting             0.952118          0.934692\n",
       "SVM                           0.939636          0.918610\n",
       "Random Forest                 0.914344          0.912595\n",
       "KNN                           1.000000          0.891849\n",
       "AdaBoost Classifier           0.892695          0.890376\n",
       "Logistic Regression           0.864743          0.870489\n",
       "Dummy Classifier              0.661592          0.661061"
      ]
     },
     "execution_count": 125,
     "metadata": {},
     "output_type": "execute_result"
    }
   ],
   "source": [
    "tunedscore_summary = pd.DataFrame([dc_trscore, lr_trscore, lgbm_trscore, ada_trscore,\n",
    "                              rf_trscore, gb_trscore, svc_trscore, knn_trscore],\n",
    "                             index=[\"Dummy Classifier\", \"Logistic Regression\", \"LightGBM Classifier\", \n",
    "                                    \"AdaBoost Classifier\", \"Random Forest\", \"Gradient Boosting\", \"SVM\", \"KNN\"])\n",
    "tunedscore_summary['Test Score tuned'] = [dc_tescore, lr_tescore, lgbm_tescore, ada_tescore, rf_tescore, gb_tescore, svc_tescore, knn_tescore]\n",
    "tunedscore_summary.columns = ['Train Score tuned', 'Test Score tuned']\n",
    "tunedscore_summary = tunedscore_summary.sort_values(by=['Test Score tuned'], ascending=False)\n",
    "tunedscore_summary"
   ]
  },
  {
   "cell_type": "markdown",
   "metadata": {},
   "source": [
    "### Hyperparameter Tuned vs Untuned Summary\n",
    "\n",
    "We see that even after tuning the hyperparameters of all the classifiers, LGBM Classifier still boasted the highest test score with a very close second by Gradient Boosting Classifier. As such, we will use LGBM Classifier as our primary classifier moving forward in our analysis."
   ]
  },
  {
   "cell_type": "code",
   "execution_count": 126,
   "metadata": {},
   "outputs": [
    {
     "data": {
      "text/html": [
       "<div>\n",
       "<style scoped>\n",
       "    .dataframe tbody tr th:only-of-type {\n",
       "        vertical-align: middle;\n",
       "    }\n",
       "\n",
       "    .dataframe tbody tr th {\n",
       "        vertical-align: top;\n",
       "    }\n",
       "\n",
       "    .dataframe thead th {\n",
       "        text-align: right;\n",
       "    }\n",
       "</style>\n",
       "<table border=\"1\" class=\"dataframe\">\n",
       "  <thead>\n",
       "    <tr style=\"text-align: right;\">\n",
       "      <th></th>\n",
       "      <th>Train Score tuned</th>\n",
       "      <th>Test Score tuned</th>\n",
       "      <th>test_score</th>\n",
       "      <th>train_score</th>\n",
       "    </tr>\n",
       "  </thead>\n",
       "  <tbody>\n",
       "    <tr>\n",
       "      <th>LightGBM Classifier</th>\n",
       "      <td>0.951586</td>\n",
       "      <td>0.935797</td>\n",
       "      <td>0.934807</td>\n",
       "      <td>0.945815</td>\n",
       "    </tr>\n",
       "    <tr>\n",
       "      <th>Gradient Boosting</th>\n",
       "      <td>0.952118</td>\n",
       "      <td>0.934692</td>\n",
       "      <td>0.925107</td>\n",
       "      <td>0.928105</td>\n",
       "    </tr>\n",
       "    <tr>\n",
       "      <th>SVM</th>\n",
       "      <td>0.939636</td>\n",
       "      <td>0.918610</td>\n",
       "      <td>0.912707</td>\n",
       "      <td>0.921567</td>\n",
       "    </tr>\n",
       "    <tr>\n",
       "      <th>Random Forest</th>\n",
       "      <td>0.914344</td>\n",
       "      <td>0.912595</td>\n",
       "      <td>0.932638</td>\n",
       "      <td>0.999990</td>\n",
       "    </tr>\n",
       "    <tr>\n",
       "      <th>KNN</th>\n",
       "      <td>1.000000</td>\n",
       "      <td>0.891849</td>\n",
       "      <td>0.878903</td>\n",
       "      <td>0.909372</td>\n",
       "    </tr>\n",
       "    <tr>\n",
       "      <th>AdaBoost Classifier</th>\n",
       "      <td>0.892695</td>\n",
       "      <td>0.890376</td>\n",
       "      <td>0.884837</td>\n",
       "      <td>0.885922</td>\n",
       "    </tr>\n",
       "    <tr>\n",
       "      <th>Logistic Regression</th>\n",
       "      <td>0.864743</td>\n",
       "      <td>0.870489</td>\n",
       "      <td>0.864047</td>\n",
       "      <td>0.864723</td>\n",
       "    </tr>\n",
       "    <tr>\n",
       "      <th>Dummy Classifier</th>\n",
       "      <td>0.661592</td>\n",
       "      <td>0.661061</td>\n",
       "      <td>0.658686</td>\n",
       "      <td>0.659188</td>\n",
       "    </tr>\n",
       "  </tbody>\n",
       "</table>\n",
       "</div>"
      ],
      "text/plain": [
       "                     Train Score tuned  Test Score tuned  test_score   \n",
       "LightGBM Classifier           0.951586          0.935797    0.934807  \\\n",
       "Gradient Boosting             0.952118          0.934692    0.925107   \n",
       "SVM                           0.939636          0.918610    0.912707   \n",
       "Random Forest                 0.914344          0.912595    0.932638   \n",
       "KNN                           1.000000          0.891849    0.878903   \n",
       "AdaBoost Classifier           0.892695          0.890376    0.884837   \n",
       "Logistic Regression           0.864743          0.870489    0.864047   \n",
       "Dummy Classifier              0.661592          0.661061    0.658686   \n",
       "\n",
       "                     train_score  \n",
       "LightGBM Classifier     0.945815  \n",
       "Gradient Boosting       0.928105  \n",
       "SVM                     0.921567  \n",
       "Random Forest           0.999990  \n",
       "KNN                     0.909372  \n",
       "AdaBoost Classifier     0.885922  \n",
       "Logistic Regression     0.864723  \n",
       "Dummy Classifier        0.659188  "
      ]
     },
     "execution_count": 126,
     "metadata": {},
     "output_type": "execute_result"
    }
   ],
   "source": [
    "final_summary = pd.concat([tunedscore_summary,cv_summary], axis=1).sort_values(by=\"Test Score tuned\", ascending=False)\n",
    "final_summary = final_summary.drop(columns=['fit_time', 'score_time'])\n",
    "final_summary"
   ]
  },
  {
   "cell_type": "markdown",
   "metadata": {},
   "source": [
    "### Confusion Matrix and Classification Report Terminology\n",
    "\n",
    "Precision: \n",
    "Precision is a measure of how many of the predicted positive instances are actually true positives\n",
    "\n",
    "Recall: \n",
    "Recall, also known as sensitivity or true positive rate, measures the proportion of actual positive instances that are correctly identified.\n",
    "\n",
    "F1-score: \n",
    "The F1-score is the harmonic mean of precision and recall. It provides a balanced measure that considers both precision and recall. A high F1-score indicates a good balance between precision and recall.\n",
    "\n",
    "Support: \n",
    "Support refers to the number of instances in each class.\n",
    "\n",
    "Accuracy:\n",
    "Accuracy represents the overall correctness of the classification model.\n",
    "\n",
    "Macro Avg:\n",
    "The macro average calculates the average of precision, recall, and F1-score across all classes, regardless of their support or imbalance.\n",
    "\n",
    "Weighted Avg:\n",
    "The weighted average calculates the average of precision, recall, and F1-score, weighted by the support of each class. It provides a measure that takes into account the class imbalance."
   ]
  },
  {
   "cell_type": "markdown",
   "metadata": {},
   "source": [
    "### Confusion Matrix and Classification Report\n",
    "\n",
    "From the classification report we see the following: \n",
    "\n",
    "1. Precision:\n",
    "\n",
    "93% of the instances predicted as \"Loan Not Default\" are true positives. <br>\n",
    "97% of the instances predicted as \"Loan Defaults\" are true positives.\n",
    "\n",
    "2. Recall:\n",
    "\n",
    "99% of the actual \"Loan Not Default\" instances are correctly classified. <br>\n",
    "72% of the actual \"Loan Defaults\" instances are correctly classified.\n",
    "\n",
    "This difference is likely due to the class imbalances we saw early in our analysis.\n",
    "\n",
    "3. F1-score:\n",
    "\n",
    "\"Loan Not Default\" had an F1-score of 0.96. <br>\n",
    "\"Loan Defaults\" had an F1-score of 0.82.\n",
    "\n",
    "4. Support:\n",
    "\n",
    "\"Loan Not Default\" has 6,407 instances. <br>\n",
    "\"Loan Defaults\" has 1,739 instances.\n",
    "\n",
    "5. Accuracy:\n",
    "\n",
    "93% accuracy indicates that 93% of the instances in the dataset are correctly classified.\n",
    "\n",
    "6. Macro Avg:\n",
    "\n",
    "The macro avgs are: precision is 0.95, recall is 0.86, and F1-score is 0.89.\n",
    "\n",
    "7. Weighted Avg:\n",
    "\n",
    "The weighted avgs are: precision is 0.94, recall is 0.93, and F1-score is 0.93.\n",
    "\n",
    "Overall, the classification report suggests that the model performs well in identifying \"Loan Not Default\" instances, with high precision, recall, and F1-score. However, it is relatively less accurate in identifying \"Loan Defaults,\" as indicated by the lower recall and F1-score for that class.\n",
    "\n",
    "However, all hope is not lost as having a model that can accurately identify users who will not default on their credit loan is also helpful!"
   ]
  },
  {
   "cell_type": "code",
   "execution_count": 127,
   "metadata": {},
   "outputs": [
    {
     "name": "stdout",
     "output_type": "stream",
     "text": [
      "                  precision    recall  f1-score   support\n",
      "\n",
      "Loan Not Default       0.93      0.99      0.96      6407\n",
      "   Loan Defaults       0.97      0.72      0.82      1739\n",
      "\n",
      "        accuracy                           0.93      8146\n",
      "       macro avg       0.95      0.86      0.89      8146\n",
      "    weighted avg       0.94      0.93      0.93      8146\n",
      "\n"
     ]
    },
    {
     "data": {
      "image/png": "[encoded data removed]",
      "text/plain": [
       "<Figure size 640x480 with 2 Axes>"
      ]
     },
     "metadata": {},
     "output_type": "display_data"
    }
   ],
   "source": [
    "ConfusionMatrixDisplay.from_estimator(lgbm_pipe, test, y_test, display_labels=[\"Loan Not Default\", \"Loan Defaults\"])\n",
    "print(classification_report(y_test, lgbm_pipe.predict(test), target_names=(\"Loan Not Default\", \"Loan Defaults\")))"
   ]
  },
  {
   "cell_type": "markdown",
   "metadata": {},
   "source": [
    "### ROC Curve & AUC Score\n",
    "\n",
    "The ROC curve and AUC score we see below indicate the following:\n",
    "\n",
    "1. Good Predictive Performance: \n",
    "\n",
    "An AUC score of 0.94 indicates that the model has a high probability of assigning a higher score or probability to a randomly chosen loan default instance compared to a randomly chosen non-default instance. This suggests that the model is effective at capturing the underlying patterns and risk factors associated with credit defaults.\n",
    "\n",
    "2. Strong Discrimination: \n",
    "\n",
    "A higher AUC score signifies that the model can effectively rank instances and assign higher probabilities to loan defaults relative to non-defaults. The model's ability to differentiate between the two classes is quite robust, making it valuable for risk assessment and decision-making.\n",
    "\n",
    "3. Potential for Reliable Risk Assessment: \n",
    "\n",
    "With a high AUC score, the model can be considered reliable in predicting credit risk. It can aid in identifying potential default cases and help lenders or financial institutions make informed decisions about granting loans or managing existing credit portfolios.\n",
    "\n",
    "4. Potential for Superior Model Performance: \n",
    "\n",
    "AUC scores closer to 1 indicate a stronger model performance, so a score of 0.94 suggests that the model is performing at a high level. While there is always room for improvement, an AUC score of 0.94 indicates that the model is already achieving a significant level of accuracy and discrimination."
   ]
  },
  {
   "cell_type": "code",
   "execution_count": 128,
   "metadata": {},
   "outputs": [
    {
     "name": "stdout",
     "output_type": "stream",
     "text": [
      "AUC Score 0.9413684877622259\n"
     ]
    },
    {
     "data": {
      "image/png": "[encoded data removed]",
      "text/plain": [
       "<Figure size 640x480 with 1 Axes>"
      ]
     },
     "metadata": {},
     "output_type": "display_data"
    }
   ],
   "source": [
    "RocCurveDisplay.from_estimator(lgbm_pipe, test, y_test)\n",
    "print(\"AUC Score\", roc_auc_score(y_test, lgbm_pipe.predict_proba(test)[:,1]))"
   ]
  },
  {
   "cell_type": "markdown",
   "metadata": {},
   "source": [
    "### Feature Importances\n",
    "\n",
    "The feature importances reflect the relative importance of each feature in the model's decision-making process.\n",
    "\n",
    "The following are an analysis on the top 5 important features in predicting the target variable _loan_status_\n",
    "\n",
    "_person_income_: With an importance value of 739, it appears to be the most important feature in predicting credit risk. A higher income might indicate a lower risk of default, making it a significant factor in assessing creditworthiness.\n",
    "\n",
    "_loan_int_rate_: This feature has an importance value of 322, suggesting that the interest rate assigned to the loan plays a significant role in determining credit risk. Higher interest rates may indicate higher risk, leading to a greater likelihood of default.\n",
    "\n",
    "_loan_percent_income_: The importance value of 250 indicates that the loan amount as a percentage of the borrower's income is an influential factor in predicting credit risk. Higher loan-to-income ratios may increase the risk of default.\n",
    "\n",
    "_loan_amnt_: With an importance value of 239, the loan amount itself is an important predictor of credit risk. Larger loan amounts may indicate higher risk, as borrowers might struggle to repay larger debts.\n",
    "\n",
    "_person_emp_length_: The employment length of the borrower has an importance value of 197. This suggests that the length of employment plays a role in assessing creditworthiness. Borrowers with longer employment histories might be considered more stable and less likely to default."
   ]
  },
  {
   "cell_type": "code",
   "execution_count": 129,
   "metadata": {},
   "outputs": [
    {
     "data": {
      "text/html": [
       "<div>\n",
       "<style scoped>\n",
       "    .dataframe tbody tr th:only-of-type {\n",
       "        vertical-align: middle;\n",
       "    }\n",
       "\n",
       "    .dataframe tbody tr th {\n",
       "        vertical-align: top;\n",
       "    }\n",
       "\n",
       "    .dataframe thead th {\n",
       "        text-align: right;\n",
       "    }\n",
       "</style>\n",
       "<table border=\"1\" class=\"dataframe\">\n",
       "  <thead>\n",
       "    <tr style=\"text-align: right;\">\n",
       "      <th></th>\n",
       "      <th>Importance</th>\n",
       "    </tr>\n",
       "  </thead>\n",
       "  <tbody>\n",
       "    <tr>\n",
       "      <th>person_income</th>\n",
       "      <td>739</td>\n",
       "    </tr>\n",
       "    <tr>\n",
       "      <th>loan_int_rate</th>\n",
       "      <td>322</td>\n",
       "    </tr>\n",
       "    <tr>\n",
       "      <th>loan_percent_income</th>\n",
       "      <td>250</td>\n",
       "    </tr>\n",
       "    <tr>\n",
       "      <th>loan_amnt</th>\n",
       "      <td>239</td>\n",
       "    </tr>\n",
       "    <tr>\n",
       "      <th>person_emp_length</th>\n",
       "      <td>197</td>\n",
       "    </tr>\n",
       "    <tr>\n",
       "      <th>...</th>\n",
       "      <td>...</td>\n",
       "    </tr>\n",
       "    <tr>\n",
       "      <th>person_age_63</th>\n",
       "      <td>0</td>\n",
       "    </tr>\n",
       "    <tr>\n",
       "      <th>person_age_64</th>\n",
       "      <td>0</td>\n",
       "    </tr>\n",
       "    <tr>\n",
       "      <th>person_age_65</th>\n",
       "      <td>0</td>\n",
       "    </tr>\n",
       "    <tr>\n",
       "      <th>person_age_66</th>\n",
       "      <td>0</td>\n",
       "    </tr>\n",
       "    <tr>\n",
       "      <th>cb_person_default_on_file_Y</th>\n",
       "      <td>0</td>\n",
       "    </tr>\n",
       "  </tbody>\n",
       "</table>\n",
       "<p>81 rows × 1 columns</p>\n",
       "</div>"
      ],
      "text/plain": [
       "                             Importance\n",
       "person_income                       739\n",
       "loan_int_rate                       322\n",
       "loan_percent_income                 250\n",
       "loan_amnt                           239\n",
       "person_emp_length                   197\n",
       "...                                 ...\n",
       "person_age_63                         0\n",
       "person_age_64                         0\n",
       "person_age_65                         0\n",
       "person_age_66                         0\n",
       "cb_person_default_on_file_Y           0\n",
       "\n",
       "[81 rows x 1 columns]"
      ]
     },
     "execution_count": 129,
     "metadata": {},
     "output_type": "execute_result"
    }
   ],
   "source": [
    "lgbm_importances = pd.DataFrame(data=np.transpose(lgbm_pipe[1].feature_importances_), index=X_train_enc.columns, columns=[\"Importance\"])\n",
    "lgbm_importances.sort_values(by=\"Importance\", ascending=False)"
   ]
  },
  {
   "cell_type": "code",
   "execution_count": 130,
   "metadata": {},
   "outputs": [
    {
     "data": {
      "image/png": "[encoded data removed]",
      "text/plain": [
       "<Figure size 1000x600 with 1 Axes>"
      ]
     },
     "metadata": {},
     "output_type": "display_data"
    }
   ],
   "source": [
    "lgbm_importances_sorted = lgbm_importances.sort_values(by=\"Importance\", ascending=False)\n",
    "top_features = lgbm_importances_sorted.head(10)\n",
    "plt.figure(figsize=(10, 6))  # Optional: adjust the figure size\n",
    "sns.barplot(x=top_features[\"Importance\"], y=top_features.index)\n",
    "\n",
    "plt.xlabel('Importance')\n",
    "plt.ylabel('Feature')\n",
    "plt.title('Top 10 Feature Importances')\n",
    "\n",
    "plt.show()"
   ]
  },
  {
   "cell_type": "markdown",
   "metadata": {},
   "source": [
    "### Predictions\n",
    "\n",
    "Assuming a 50% prediction value as the Loan Defaults, the model identifies 1294 users will default on their loan or about 16% of test set and that 84% will not default on their loan. "
   ]
  },
  {
   "cell_type": "code",
   "execution_count": 131,
   "metadata": {},
   "outputs": [
    {
     "data": {
      "text/plain": [
       "Defaults_1%\n",
       "False    6852\n",
       "True     1294\n",
       "Name: count, dtype: int64"
      ]
     },
     "execution_count": 131,
     "metadata": {},
     "output_type": "execute_result"
    }
   ],
   "source": [
    "Preds1 = [pred[1] for pred in lgbm_pipe.predict_proba(test)]\n",
    "Preds0 = [pred[0] for pred in lgbm_pipe.predict_proba(test)]\n",
    "\n",
    "defaults_1_predictions = pd.DataFrame(data = {'id': test.index, 'Defaults_1%': Preds1})\n",
    "notdefaults_0_predictions = pd.DataFrame(data = {'id': test.index, 'NotDefaults_0%': Preds0})\n",
    "\n",
    "predictions = defaults_1_predictions\n",
    "predictions['NotDefaults_0%'] = notdefaults_0_predictions['NotDefaults_0%']\n",
    "predictions = predictions.reset_index(drop=True)\n",
    "\n",
    "predictions['Defaults_1%'] = 100 * predictions['Defaults_1%']\n",
    "predictions['NotDefaults_0%'] = 100 * predictions['NotDefaults_0%']\n",
    "\n",
    "predictions.sort_values(by=['Defaults_1%'], ascending=False)\n",
    "(predictions['Defaults_1%'] >= 50.0).value_counts()"
   ]
  },
  {
   "cell_type": "markdown",
   "metadata": {},
   "source": [
    "### Risk Segmentation Plot \n",
    "\n",
    "The following plot segments users into different risk categories based on the predicted probabilities of loan defaults. \n",
    "\n",
    "If predicted probability of loan default is < 30% = Low Risk\n",
    "If predicted probability of loan default is >= 30% and < 70% = Medium Risk\n",
    "If predicted probability of loan default is >= 70% = High Risk"
   ]
  },
  {
   "cell_type": "code",
   "execution_count": 132,
   "metadata": {},
   "outputs": [
    {
     "data": {
      "image/png": "[encoded data removed]",
      "text/plain": [
       "<Figure size 1000x600 with 1 Axes>"
      ]
     },
     "metadata": {},
     "output_type": "display_data"
    }
   ],
   "source": [
    "low_risk = predictions[predictions['Defaults_1%'] < 30]\n",
    "medium_risk = predictions[(predictions['Defaults_1%'] >= 30) & (predictions['Defaults_1%'] < 70)]\n",
    "high_risk = predictions[predictions['Defaults_1%'] >= 70]\n",
    "\n",
    "plt.figure(figsize=(10, 6))\n",
    "plt.scatter(low_risk.index, low_risk['Defaults_1%'], color='green', label='Low Risk')\n",
    "plt.scatter(medium_risk.index, medium_risk['Defaults_1%'], color='orange', label='Medium Risk')\n",
    "plt.scatter(high_risk.index, high_risk['Defaults_1%'], color='red', label='High Risk')\n",
    "\n",
    "plt.xlabel('User ID')\n",
    "plt.ylabel('Loan Defaults Percentage')\n",
    "plt.title('Risk Segmentation Plot')\n",
    "\n",
    "plt.legend()\n",
    "plt.grid(True)\n",
    "\n",
    "plt.show()"
   ]
  },
  {
   "cell_type": "markdown",
   "metadata": {},
   "source": [
    "## Conclusion\n",
    "\n",
    "In conclusion we see that our model is reliable and accurate at predicting if a user will not default on their loan. Although this may not be the exact goal of this analysis, it is still useful in determining the risk associated with any user taking out a credit loan. "
   ]
  }
 ],
 "metadata": {
  "kernelspec": {
   "display_name": "Python 3 (ipykernel)",
   "language": "python",
   "name": "python3"
  },
  "language_info": {
   "codemirror_mode": {
    "name": "ipython",
    "version": 3
   },
   "file_extension": ".py",
   "mimetype": "text/x-python",
   "name": "python",
   "nbconvert_exporter": "python",
   "pygments_lexer": "ipython3",
   "version": "3.10.11"
  }
 },
 "nbformat": 4,
 "nbformat_minor": 4
}
